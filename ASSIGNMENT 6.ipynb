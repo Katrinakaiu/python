{
 "cells": [
  {
   "cell_type": "markdown",
   "metadata": {},
   "source": [
    "## Question 1"
   ]
  },
  {
   "cell_type": "markdown",
   "metadata": {},
   "source": [
    "Find the most frequent day that people send emails, all emails that start with (from)"
   ]
  },
  {
   "cell_type": "code",
   "execution_count": 9,
   "metadata": {},
   "outputs": [
    {
     "name": "stdout",
     "output_type": "stream",
     "text": [
      "Thu is the most day seen 352 times\n"
     ]
    }
   ],
   "source": [
    "fhand = open(\"mbox.txt\", \"r\")\n",
    "\n",
    "days = [\"Mon\", \"Tue\", \"Wed\", \"Thu\", \"Fri\", \"Sat\", \"Sun\"]\n",
    "countday= [0, 0, 0, 0, 0, 0, 0]\n",
    "\n",
    "for line in fhand:\n",
    "    if line.startswith(\"From \") :\n",
    "        word = line.split()\n",
    "        count = 0\n",
    "        for y in days:\n",
    "            if y == word[2]:\n",
    "                countday[count] = countday[count] + 1\n",
    "            else:\n",
    "                count = count + 1\n",
    "print(days[countday.index(max(countday))], \"is the most day seen\", max(countday), \"times\")"
   ]
  },
  {
   "cell_type": "markdown",
   "metadata": {},
   "source": [
    "## Question 2"
   ]
  },
  {
   "cell_type": "markdown",
   "metadata": {},
   "source": [
    "Find the most frequent day of the month that people send emails, all emails starting with (from)"
   ]
  },
  {
   "cell_type": "code",
   "execution_count": 8,
   "metadata": {},
   "outputs": [
    {
     "name": "stdout",
     "output_type": "stream",
     "text": [
      "29 is the most date seen 140 times\n"
     ]
    }
   ],
   "source": [
    "fhand = open(\"mbox.txt\", \"r\")\n",
    "\n",
    "dates = [1,2,3,4,5,6,7,8,9,10,11,12,13,14,15,16,17,18,19,20,21,22,23,24,25,26,27,28,29,30,31]\n",
    "countdate = [0,0,0,0,0,0,0,0,0,0,0,0,0,0,0,0,0,0,0,0,0,0,0,0,0,0,0,0,0,0,0]\n",
    "\n",
    "for line in fhand:\n",
    "    if line.startswith(\"From \") :\n",
    "        word = line.split()\n",
    "        count = 0\n",
    "        for d in dates:\n",
    "            if int(word[4]) == d:\n",
    "                countdate[count] = countdate[count] + 1\n",
    "            else:\n",
    "                count = count + 1\n",
    "print(dates[countdate.index(max(countdate))], \"is the most date seen\", max(countdate), \"times\")"
   ]
  },
  {
   "cell_type": "code",
   "execution_count": null,
   "metadata": {},
   "outputs": [],
   "source": []
  }
 ],
 "metadata": {
  "kernelspec": {
   "display_name": "Python 3",
   "language": "python",
   "name": "python3"
  },
  "language_info": {
   "codemirror_mode": {
    "name": "ipython",
    "version": 3
   },
   "file_extension": ".py",
   "mimetype": "text/x-python",
   "name": "python",
   "nbconvert_exporter": "python",
   "pygments_lexer": "ipython3",
   "version": "3.7.3"
  }
 },
 "nbformat": 4,
 "nbformat_minor": 2
}
