{
 "cells": [
  {
   "cell_type": "markdown",
   "metadata": {},
   "source": [
    "## Question 1"
   ]
  },
  {
   "cell_type": "markdown",
   "metadata": {},
   "source": [
    "Define a function which can compute the sum of two numbers"
   ]
  },
  {
   "cell_type": "code",
   "execution_count": 2,
   "metadata": {},
   "outputs": [
    {
     "data": {
      "text/plain": [
       "123"
      ]
     },
     "execution_count": 2,
     "metadata": {},
     "output_type": "execute_result"
    }
   ],
   "source": [
    "def addtwo(a,b):\n",
    "    sum = a + b\n",
    "    return sum\n",
    "\n",
    "x = addtwo(45,78)\n",
    "x"
   ]
  },
  {
   "cell_type": "markdown",
   "metadata": {},
   "source": [
    "## Question 2"
   ]
  },
  {
   "cell_type": "markdown",
   "metadata": {},
   "source": [
    "Define a function that can convert an integer into a string and print it in console"
   ]
  },
  {
   "cell_type": "code",
   "execution_count": 15,
   "metadata": {},
   "outputs": [
    {
     "data": {
      "text/plain": [
       "'76'"
      ]
     },
     "execution_count": 15,
     "metadata": {},
     "output_type": "execute_result"
    }
   ],
   "source": [
    "def convert(a):\n",
    "    a = str (a)\n",
    "    return a\n",
    "\n",
    "t = convert(76)\n",
    "t\n"
   ]
  },
  {
   "cell_type": "markdown",
   "metadata": {},
   "source": [
    "### Question 3"
   ]
  },
  {
   "cell_type": "markdown",
   "metadata": {},
   "source": [
    "Define a function that can receive two intergral number in string form and compute their sum and then print it in console."
   ]
  },
  {
   "cell_type": "code",
   "execution_count": 25,
   "metadata": {},
   "outputs": [
    {
     "data": {
      "text/plain": [
       "300"
      ]
     },
     "execution_count": 25,
     "metadata": {},
     "output_type": "execute_result"
    }
   ],
   "source": [
    "def computesumstr(x,y):\n",
    "    sum = int (x) + int (y)\n",
    "    return sum\n",
    "\n",
    "z = computesumstr(\"100\",\"200\")\n",
    "z"
   ]
  },
  {
   "cell_type": "code",
   "execution_count": 28,
   "metadata": {},
   "outputs": [
    {
     "name": "stdout",
     "output_type": "stream",
     "text": [
      "60\n"
     ]
    }
   ],
   "source": [
    "def convert(a):\n",
    "    a = str (a)\n",
    "    print (a)\n",
    "    \n",
    "a = convert(60)"
   ]
  },
  {
   "cell_type": "code",
   "execution_count": 29,
   "metadata": {},
   "outputs": [],
   "source": [
    "a"
   ]
  },
  {
   "cell_type": "markdown",
   "metadata": {},
   "source": [
    "## Question 4"
   ]
  },
  {
   "cell_type": "markdown",
   "metadata": {},
   "source": [
    "Define a function that can accept two strings as input and concatenate them and then print it in console."
   ]
  },
  {
   "cell_type": "code",
   "execution_count": 39,
   "metadata": {},
   "outputs": [
    {
     "data": {
      "text/plain": [
       "'Hello Tamia'"
      ]
     },
     "execution_count": 39,
     "metadata": {},
     "output_type": "execute_result"
    }
   ],
   "source": [
    "def addtwostr(a,b):\n",
    "    sum =  a  +\" \"+ b\n",
    "    return sum\n",
    "\n",
    "c = addtwostr(\"Hello\",\"Tamia\")\n",
    "c"
   ]
  },
  {
   "cell_type": "code",
   "execution_count": 43,
   "metadata": {},
   "outputs": [
    {
     "name": "stdout",
     "output_type": "stream",
     "text": [
      "Enter a: hello\n",
      "Enter b: tamia\n"
     ]
    },
    {
     "data": {
      "text/plain": [
       "'hello tamia'"
      ]
     },
     "execution_count": 43,
     "metadata": {},
     "output_type": "execute_result"
    }
   ],
   "source": [
    "a = input(\"Enter a: \")\n",
    "b = input(\"Enter b: \")\n",
    "def addtwostr(a,b):\n",
    "    sum = a +\" \"+b\n",
    "    return sum\n",
    "\n",
    "c = addtwostr(a,b)\n",
    "c"
   ]
  },
  {
   "cell_type": "markdown",
   "metadata": {},
   "source": [
    "## Question 5"
   ]
  },
  {
   "cell_type": "markdown",
   "metadata": {},
   "source": [
    "Define a function that can accept an integer number as an inputand print the \"It is an even number\" if the number is even, otherwise print \"It is an odd number.\""
   ]
  },
  {
   "cell_type": "code",
   "execution_count": 47,
   "metadata": {},
   "outputs": [
    {
     "name": "stdout",
     "output_type": "stream",
     "text": [
      "It is an odd number.\n"
     ]
    },
    {
     "data": {
      "text/plain": [
       "101"
      ]
     },
     "execution_count": 47,
     "metadata": {},
     "output_type": "execute_result"
    }
   ],
   "source": [
    "def evenodd(f):\n",
    "    if  f%2 == 0:\n",
    "        print(\"It is an even number.\")\n",
    "    else:\n",
    "        print(\"It is an odd number.\")\n",
    "    return f\n",
    "    \n",
    "g = evenodd(101)   \n",
    "g"
   ]
  },
  {
   "cell_type": "markdown",
   "metadata": {},
   "source": [
    "## Question 6"
   ]
  },
  {
   "cell_type": "markdown",
   "metadata": {},
   "source": [
    "Define a function that takes two integers and returns the largest of the two integers."
   ]
  },
  {
   "cell_type": "code",
   "execution_count": 2,
   "metadata": {},
   "outputs": [
    {
     "data": {
      "text/plain": [
       "78"
      ]
     },
     "execution_count": 2,
     "metadata": {},
     "output_type": "execute_result"
    }
   ],
   "source": [
    "def smallestlargest(num1,num2):\n",
    "    if num1 > num2:\n",
    "        largest = num1\n",
    "    else:\n",
    "        largest = num2\n",
    "    return largest\n",
    "\n",
    "r = smallestlargest(56,78)\n",
    "r"
   ]
  },
  {
   "cell_type": "markdown",
   "metadata": {},
   "source": [
    "## Question 7"
   ]
  },
  {
   "cell_type": "markdown",
   "metadata": {},
   "source": [
    "Define a function that takes three integers and returns the the smallest of the three integers."
   ]
  },
  {
   "cell_type": "code",
   "execution_count": 3,
   "metadata": {},
   "outputs": [
    {
     "data": {
      "text/plain": [
       "13"
      ]
     },
     "execution_count": 3,
     "metadata": {},
     "output_type": "execute_result"
    }
   ],
   "source": [
    "def largestsmallest(num1,num2,num3):\n",
    "    if (num1 < num2) and (num1 < num3):\n",
    "        smallest = num1\n",
    "    elif (num2 < num1) and (num2 < num3):\n",
    "        smallest = num2\n",
    "    else:\n",
    "        smallest = num3\n",
    "    return smallest\n",
    "\n",
    "k = largestsmallest(66,92,13)\n",
    "k\n",
    "        "
   ]
  },
  {
   "cell_type": "markdown",
   "metadata": {},
   "source": [
    "## Question 8"
   ]
  },
  {
   "cell_type": "markdown",
   "metadata": {},
   "source": [
    "Define a function that prints grades based on the score.\n",
    "\n",
    "<40 - F\n",
    "40 to <50 - D\n",
    "50 to <60 - C\n",
    "60 to <70 - B\n",
    "70 and above - A"
   ]
  },
  {
   "cell_type": "code",
   "execution_count": 29,
   "metadata": {},
   "outputs": [
    {
     "data": {
      "text/plain": [
       "'D'"
      ]
     },
     "execution_count": 29,
     "metadata": {},
     "output_type": "execute_result"
    }
   ],
   "source": [
    "def findgrade(score):\n",
    "    if score < 40:\n",
    "        return \"F\"\n",
    "    elif score < 50:\n",
    "        return \"D\"\n",
    "    elif score < 60:\n",
    "        return \"C\"\n",
    "    elif score < 70:\n",
    "        return \"B\"\n",
    "    else:\n",
    "        return \"A\"\n",
    "    \n",
    "t = findgrade(40)\n",
    "t"
   ]
  },
  {
   "cell_type": "markdown",
   "metadata": {},
   "source": [
    "## Question 9"
   ]
  },
  {
   "cell_type": "markdown",
   "metadata": {},
   "source": [
    "Define a function to find area of a triangle.It should return the area.(Capture)"
   ]
  },
  {
   "cell_type": "code",
   "execution_count": 3,
   "metadata": {},
   "outputs": [
    {
     "name": "stdout",
     "output_type": "stream",
     "text": [
      "Enter your length: 56\n",
      "Enter your width: 24\n"
     ]
    },
    {
     "data": {
      "text/plain": [
       "672.0"
      ]
     },
     "execution_count": 3,
     "metadata": {},
     "output_type": "execute_result"
    }
   ],
   "source": [
    "length = float(input(\"Enter your length: \"))\n",
    "width = float(input(\"Enter your width: \"))\n",
    "\n",
    "def triangle_area(num1,length,width):\n",
    "    area = num1*(length*width)\n",
    "    return area\n",
    "\n",
    "m = triangle_area(1/2,length,width)\n",
    "m"
   ]
  },
  {
   "cell_type": "code",
   "execution_count": null,
   "metadata": {},
   "outputs": [],
   "source": []
  }
 ],
 "metadata": {
  "kernelspec": {
   "display_name": "Python 3",
   "language": "python",
   "name": "python3"
  },
  "language_info": {
   "codemirror_mode": {
    "name": "ipython",
    "version": 3
   },
   "file_extension": ".py",
   "mimetype": "text/x-python",
   "name": "python",
   "nbconvert_exporter": "python",
   "pygments_lexer": "ipython3",
   "version": "3.7.3"
  }
 },
 "nbformat": 4,
 "nbformat_minor": 2
}
