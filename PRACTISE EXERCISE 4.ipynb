{
 "cells": [
  {
   "cell_type": "markdown",
   "metadata": {},
   "source": [
    "## Question 1"
   ]
  },
  {
   "cell_type": "code",
   "execution_count": 44,
   "metadata": {},
   "outputs": [
    {
     "data": {
      "text/plain": [
       "[6, 12, 18, 4, 12, 20, 28]"
      ]
     },
     "execution_count": 44,
     "metadata": {},
     "output_type": "execute_result"
    }
   ],
   "source": [
    "listone= [3,6,9,12,15,18,21]\n",
    "listone[1::2]\n",
    "listtwo = [4,8,12,16,20,24,28]\n",
    "listtwo[::2]\n",
    "\n",
    "def combine_lists(listone,listtwo):\n",
    "    listthree = listone[1::2] + listtwo[::2]\n",
    "    return (listthree)\n",
    "new_list = combine_lists(listone,listtwo)\n",
    "new_list"
   ]
  },
  {
   "cell_type": "code",
   "execution_count": 45,
   "metadata": {},
   "outputs": [
    {
     "data": {
      "text/plain": [
       "[1, 3, 5, 7, 9, 0, 2, 4, 6, 8]"
      ]
     },
     "execution_count": 45,
     "metadata": {},
     "output_type": "execute_result"
    }
   ],
   "source": [
    "new_list = combine_lists([0,1,2,3,4,5,6,7,8,9],[0,1,2,3,4,5,6,7,8,9,])\n",
    "new_list   "
   ]
  },
  {
   "cell_type": "markdown",
   "metadata": {},
   "source": [
    "## Question 2"
   ]
  },
  {
   "cell_type": "markdown",
   "metadata": {},
   "source": [
    "first=[10,30,40,60,45]\n",
    "second=[20,50,14,40,55]\n",
    "Given the following two sets find the intersection and remove those elements from the first set"
   ]
  },
  {
   "cell_type": "code",
   "execution_count": 33,
   "metadata": {},
   "outputs": [
    {
     "name": "stdout",
     "output_type": "stream",
     "text": [
      "{40, 10}\n",
      "(30, 45, 60)\n"
     ]
    }
   ],
   "source": [
    "first = set([10,30,40,60,45])\n",
    "second = set([20,50,10,40,55])\n",
    "\n",
    "third = first.intersection(second)\n",
    "print(third)\n",
    "first.pop()\n",
    "first.pop()\n",
    "first\n",
    "\n",
    "first = (30,45,60)\n",
    "print(first)"
   ]
  },
  {
   "cell_type": "markdown",
   "metadata": {},
   "source": [
    "## Question 3"
   ]
  },
  {
   "cell_type": "markdown",
   "metadata": {},
   "source": [
    "Given an input list remove the element at index 4 and add it to the second position, and also at the end of the list.\n",
    "\n",
    "list = [54,44,27,79,91,41]"
   ]
  },
  {
   "cell_type": "code",
   "execution_count": 11,
   "metadata": {},
   "outputs": [
    {
     "name": "stdout",
     "output_type": "stream",
     "text": [
      "[54, 44, 27, 79, 41]\n",
      "list: [54, 44, 91, 27, 79, 41, 91]\n"
     ]
    }
   ],
   "source": [
    "list = [54,44,27,79,91,41]\n",
    "list.remove(91)\n",
    "print(list)\n",
    "list.insert(2,91)\n",
    "list.insert(6,91)\n",
    "print(\"list:\", list)"
   ]
  },
  {
   "cell_type": "markdown",
   "metadata": {},
   "source": [
    "## Question 5"
   ]
  },
  {
   "cell_type": "markdown",
   "metadata": {},
   "source": [
    "Given a list slice it into three equal chunks and reverse each list.\n",
    "\n",
    "Samplelist = [1,2,3,4,5,6,7,8,9]"
   ]
  },
  {
   "cell_type": "code",
   "execution_count": 35,
   "metadata": {},
   "outputs": [
    {
     "name": "stdout",
     "output_type": "stream",
     "text": [
      "firstlist: [3, 2, 1]\n",
      "secondlist: [6, 5, 4]\n",
      "thirdlist: [9, 8, 7]\n"
     ]
    }
   ],
   "source": [
    "Samplelist = [1,2,3,4,5,6,7,8,9]\n",
    "Firstlist = Samplelist[0:3]\n",
    "Secondlist = Samplelist[3:6]\n",
    "Thirdlist = Samplelist[6:9]\n",
    "Firstlist[::-1],Secondlist[::-1],Thirdlist[::-1]\n",
    "print(\"firstlist:\",Firstlist[::-1])\n",
    "print(\"secondlist:\", Secondlist[::-1])\n",
    "print(\"thirdlist:\", Thirdlist[::-1])"
   ]
  },
  {
   "cell_type": "markdown",
   "metadata": {},
   "source": [
    "## Question 6"
   ]
  },
  {
   "cell_type": "markdown",
   "metadata": {},
   "source": [
    "Given a list iterate it and count the occurence of each element and create a dictionary to show the count of each element.\n",
    "\n",
    "list = [10,20,30,10,20,40,50]"
   ]
  },
  {
   "cell_type": "code",
   "execution_count": 7,
   "metadata": {},
   "outputs": [
    {
     "name": "stdout",
     "output_type": "stream",
     "text": [
      "{10: 2, 20: 2, 30: 1, 40: 1, 50: 1}\n"
     ]
    }
   ],
   "source": [
    "list = [10,20,30,10,20,40,50]\n",
    "list_dict = dict()\n",
    "\n",
    "for i in list:\n",
    "    if i not in list_dict:\n",
    "        list_dict[i] = 1\n",
    "    else:\n",
    "        list_dict[i] = list_dict[i] + 1\n",
    "print(list_dict)        \n",
    "    "
   ]
  },
  {
   "cell_type": "markdown",
   "metadata": {},
   "source": [
    "## Question 7"
   ]
  },
  {
   "cell_type": "markdown",
   "metadata": {},
   "source": [
    "Iterate a given list and check if the element already given element already exists in a dictionary as a key's value. If not delete it from the list given.\n",
    "\n"
   ]
  },
  {
   "cell_type": "code",
   "execution_count": 62,
   "metadata": {},
   "outputs": [
    {
     "name": "stdout",
     "output_type": "stream",
     "text": [
      "[47, 69, 76, 97]\n"
     ]
    }
   ],
   "source": [
    "numbers = [47,64,69,37,76,83,95,97]\n",
    "dict_1 = {}\n",
    "dict_1['Jhon'] = 47\n",
    "dict_1['Emma'] = 69\n",
    "dict_1['Kelly'] = 76\n",
    "dict_1['Jason'] = 97\n",
    "dict_1\n",
    "x = []\n",
    "list = []\n",
    "for a in numbers:\n",
    "    if a not in dict_1.values():\n",
    "       list.append(a)\n",
    "for x in range(len(list)):\n",
    "    numbers.remove(list[x])\n",
    "print(numbers)"
   ]
  },
  {
   "cell_type": "markdown",
   "metadata": {},
   "source": [
    "## Question 8"
   ]
  },
  {
   "cell_type": "markdown",
   "metadata": {},
   "source": [
    "Remove duplicate from a list and create  tuple and find the minimum and maximum number.\n",
    "\n",
    "Samplelist = [87,45,41,65,94,41,99,94]"
   ]
  },
  {
   "cell_type": "code",
   "execution_count": 17,
   "metadata": {},
   "outputs": [
    {
     "name": "stdout",
     "output_type": "stream",
     "text": [
      "unique list: [87, 45, 65, 41, 99, 94] Tuple:  (87, 45, 65, 41, 99, 94) min: 41 max:  99\n"
     ]
    }
   ],
   "source": [
    "list = [87,45,41,65,94,41,99,94]\n",
    "list.remove(41)\n",
    "list.remove(94)\n",
    "list\n",
    "\n",
    "new_list = (87,45,65,41,99,94)\n",
    "type(new_list)\n",
    "new_list\n",
    "\n",
    "min(new_list)\n",
    "max(new_list)\n",
    "\n",
    "print(\"unique list:\",list ,\"Tuple: \",new_list ,\"min:\",min(new_list) ,\"max: \",max(new_list))"
   ]
  },
  {
   "cell_type": "markdown",
   "metadata": {},
   "source": [
    "## Question 9"
   ]
  },
  {
   "cell_type": "markdown",
   "metadata": {},
   "source": [
    "Given an input string, count occurences of all characters within a string.\n",
    "\n",
    "count('pynativepynyepynative')"
   ]
  },
  {
   "cell_type": "code",
   "execution_count": 34,
   "metadata": {},
   "outputs": [
    {
     "name": "stdout",
     "output_type": "stream",
     "text": [
      "{'p': 3, 'y': 3, 'n': 3, 'a': 2, 't': 2, 'i': 2, 'v': 3, 'e': 3}\n"
     ]
    }
   ],
   "source": [
    "word = \"pynativepynvepynative\"\n",
    "word = ['p','y','n','a','t','i','v','e','p','y','n','v','e','p','y','n','a','t','i','v','e']\n",
    "word_dict = dict()\n",
    "\n",
    "for i in word:\n",
    "    if i not in word_dict:\n",
    "        word_dict[i ] = 1\n",
    "    else:\n",
    "        word_dict[i] = word_dict[i] + 1\n",
    "print(word_dict)\n",
    "            "
   ]
  },
  {
   "cell_type": "markdown",
   "metadata": {},
   "source": [
    "## Question 10"
   ]
  },
  {
   "cell_type": "markdown",
   "metadata": {},
   "source": [
    "Given an input string count all lower case, uppercase, digits and special symbols.\n",
    "\n",
    "(\"P@#yn26at^&i5ve\")"
   ]
  },
  {
   "cell_type": "code",
   "execution_count": 42,
   "metadata": {},
   "outputs": [
    {
     "name": "stdout",
     "output_type": "stream",
     "text": [
      "String:  15\n",
      "Lowercase: 7\n",
      "Uppercase: 1\n",
      "Digits: 3\n",
      "Special_symbols: 4\n"
     ]
    }
   ],
   "source": [
    "characters = (\"P@#yn26at^&i5ve\")\n",
    "print(\"String: \", len(characters))\n",
    "lowercase = 0\n",
    "uppercase = 0\n",
    "digits = 0\n",
    "special_symbols = 0\n",
    "for a in characters:\n",
    "    if a.islower():\n",
    "        lowercase = lowercase + 1\n",
    "\n",
    "    elif a.isupper():\n",
    "        uppercase = uppercase + 1\n",
    "\n",
    "    elif a.isdigit():\n",
    "        digits = digits + 1\n",
    "\n",
    "    else:\n",
    "        special_symbols = special_symbols + 1\n",
    "print(\"Lowercase:\", lowercase)\n",
    "print(\"Uppercase:\", uppercase)\n",
    "print(\"Digits:\", digits)\n",
    "print(\"Special_symbols:\", special_symbols)"
   ]
  },
  {
   "cell_type": "markdown",
   "metadata": {},
   "source": [
    "## Question 11"
   ]
  },
  {
   "cell_type": "markdown",
   "metadata": {},
   "source": [
    "Given a string of odd length greater 7, return a string made of the middle three chars of a given string."
   ]
  },
  {
   "cell_type": "code",
   "execution_count": 82,
   "metadata": {},
   "outputs": [
    {
     "name": "stdout",
     "output_type": "stream",
     "text": [
      "Length:  11\n",
      "Dip\n",
      "Length:  7\n",
      "son\n",
      "Length:  9\n",
      "mat\n",
      "Dip\n"
     ]
    }
   ],
   "source": [
    "name = \"JhonDipPeta\"\n",
    "print(\"Length: \",len(name))\n",
    "a =name[4:7]\n",
    "print(a)\n",
    "name1 = \"Jasonay\"\n",
    "print(\"Length: \",len(name1))\n",
    "b = name1[2:5]\n",
    "print(b)\n",
    "name2 = \"Climatize\"\n",
    "print(\"Length: \",len(name2))\n",
    "c = name2[3:6]\n",
    "print(c)\n",
    "for w in name:\n",
    "    w = 7\n",
    "    x = len(name)%2 != 0\n",
    "    x = len(name)\n",
    "    y = (2 + (x - w)/2)\n",
    "    z = y + 3\n",
    "    midchar = name[int(y):int(z)] \n",
    "print(midchar)"
   ]
  },
  {
   "cell_type": "code",
   "execution_count": null,
   "metadata": {},
   "outputs": [],
   "source": []
  }
 ],
 "metadata": {
  "kernelspec": {
   "display_name": "Python 3",
   "language": "python",
   "name": "python3"
  },
  "language_info": {
   "codemirror_mode": {
    "name": "ipython",
    "version": 3
   },
   "file_extension": ".py",
   "mimetype": "text/x-python",
   "name": "python",
   "nbconvert_exporter": "python",
   "pygments_lexer": "ipython3",
   "version": "3.7.3"
  }
 },
 "nbformat": 4,
 "nbformat_minor": 2
}
