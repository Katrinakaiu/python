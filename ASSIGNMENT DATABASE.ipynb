{
 "cells": [
  {
   "cell_type": "markdown",
   "metadata": {},
   "source": [
    "check emails from \"mbox.txt\" that start with from and count their occurences.\n",
    "loop through inserting each to the database EMAILS.\n",
    "CREATE A DATABASE CALLED EMAILS.count occurences."
   ]
  },
  {
   "cell_type": "code",
   "execution_count": 2,
   "metadata": {},
   "outputs": [
    {
     "data": {
      "text/plain": [
       "'2.6.0'"
      ]
     },
     "execution_count": 2,
     "metadata": {},
     "output_type": "execute_result"
    }
   ],
   "source": [
    "import sqlite3\n",
    "sqlite3.version"
   ]
  },
  {
   "cell_type": "code",
   "execution_count": 3,
   "metadata": {},
   "outputs": [],
   "source": [
    "con = sqlite3.connect('C:\\\\Users\\\\LENOVO\\\\Desktop\\\\Python programming\\\\emails.db')"
   ]
  },
  {
   "cell_type": "code",
   "execution_count": 4,
   "metadata": {},
   "outputs": [],
   "source": [
    "cur = con.cursor()"
   ]
  },
  {
   "cell_type": "code",
   "execution_count": 6,
   "metadata": {},
   "outputs": [
    {
     "name": "stdout",
     "output_type": "stream",
     "text": [
      "{'stephen.marquard@uct.ac.za': 261, 'louis@media.berkeley.edu': 180, 'zqian@umich.edu': 1485, 'rjlowe@iupui.edu': 711, 'cwen@iupui.edu': 1413, 'gsilver@umich.edu': 216, 'wagnermr@iupui.edu': 387, 'antranig@caret.cam.ac.uk': 162, 'gopal.ramasammycook@gmail.com': 225, 'david.horwitz@uct.ac.za': 603, 'ray@media.berkeley.edu': 189, 'mmmay@indiana.edu': 1449, 'stuart.freeman@et.gatech.edu': 153, 'tnguyen@iupui.edu': 54, 'chmaurer@iupui.edu': 963, 'aaronz@vt.edu': 738, 'ian@caret.cam.ac.uk': 711, 'csev@umich.edu': 171, 'jimeng@umich.edu': 837, 'josrodri@iupui.edu': 252, 'knoop@umich.edu': 45, 'bkirschn@umich.edu': 216, 'dlhaines@umich.edu': 648, 'hu2@iupui.edu': 63, 'sgithens@caret.cam.ac.uk': 387, 'arwhyte@umich.edu': 243, 'gbhatnag@umich.edu': 27, 'gjthomas@iupui.edu': 360, 'a.fish@lancaster.ac.uk': 126, 'ajpoland@iupui.edu': 369, 'lance@indiana.edu': 72, 'ssmail@indiana.edu': 45, 'jlrenfro@ucdavis.edu': 9, 'nuno@ufp.pt': 252, 'zach.thomas@txstate.edu': 126, 'ktsao@stanford.edu': 72, 'ostermmg@whitman.edu': 153, 'john.ellis@rsmart.com': 72, 'jleasia@umich.edu': 18, 'ggolden@umich.edu': 72, 'thoppaymallika@fhda.edu': 9, 'kimsooil@bu.edu': 126, 'bahollad@indiana.edu': 18, 'jzaremba@unicon.net': 45, 'mbreuker@loi.nl': 63} 14796\n"
     ]
    }
   ],
   "source": [
    "fhand = open(\"mbox.txt\")\n",
    "emails = dict()\n",
    "count = 0\n",
    "for h in fhand:\n",
    "    if h.startswith(\"From\"):\n",
    "        words = h.split()\n",
    "        for word in words:\n",
    "            emails[words[1]] = emails.get(words[1],0) + 1\n",
    "            count = count + 1\n",
    "print(emails, count)\n",
    "for a,b in emails.items():\n",
    "    cur.execute('insert into Emails values (? , ?)', (a , b) )"
   ]
  },
  {
   "cell_type": "code",
   "execution_count": 7,
   "metadata": {},
   "outputs": [],
   "source": [
    "con.commit()"
   ]
  },
  {
   "cell_type": "code",
   "execution_count": null,
   "metadata": {},
   "outputs": [],
   "source": []
  }
 ],
 "metadata": {
  "kernelspec": {
   "display_name": "Python 3",
   "language": "python",
   "name": "python3"
  },
  "language_info": {
   "codemirror_mode": {
    "name": "ipython",
    "version": 3
   },
   "file_extension": ".py",
   "mimetype": "text/x-python",
   "name": "python",
   "nbconvert_exporter": "python",
   "pygments_lexer": "ipython3",
   "version": "3.7.3"
  }
 },
 "nbformat": 4,
 "nbformat_minor": 2
}
