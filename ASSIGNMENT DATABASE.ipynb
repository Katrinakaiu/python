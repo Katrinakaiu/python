{
 "cells": [
  {
   "cell_type": "markdown",
   "metadata": {},
   "source": [
    "check emails from \"mbox.txt\" that start with from and count their occurences.\n",
    "loop through inserting each to the database EMAILS.\n",
    "CREATE A DATABASE CALLED EMAILS.count occurences."
   ]
  },
  {
   "cell_type": "code",
   "execution_count": 1,
   "metadata": {},
   "outputs": [
    {
     "data": {
      "text/plain": [
       "'2.6.0'"
      ]
     },
     "execution_count": 1,
     "metadata": {},
     "output_type": "execute_result"
    }
   ],
   "source": [
    "import sqlite3\n",
    "sqlite3.version"
   ]
  },
  {
   "cell_type": "code",
   "execution_count": 2,
   "metadata": {},
   "outputs": [],
   "source": [
    "con = sqlite3.connect('C:\\\\Users\\\\LENOVO\\\\Desktop\\\\Python programming\\\\emails.db')"
   ]
  },
  {
   "cell_type": "code",
   "execution_count": 3,
   "metadata": {},
   "outputs": [],
   "source": [
    "cur = con.cursor()"
   ]
  },
  {
   "cell_type": "code",
   "execution_count": 26,
   "metadata": {},
   "outputs": [
    {
     "name": "stdout",
     "output_type": "stream",
     "text": [
      "{'stephen.marquard@uct.ac.za': 1305, 'louis@media.berkeley.edu': 900, 'zqian@umich.edu': 7425, 'rjlowe@iupui.edu': 3555, 'cwen@iupui.edu': 7065, 'gsilver@umich.edu': 1080, 'wagnermr@iupui.edu': 1935, 'antranig@caret.cam.ac.uk': 810, 'gopal.ramasammycook@gmail.com': 1125, 'david.horwitz@uct.ac.za': 3015, 'ray@media.berkeley.edu': 945, 'mmmay@indiana.edu': 7245, 'stuart.freeman@et.gatech.edu': 765, 'tnguyen@iupui.edu': 270, 'chmaurer@iupui.edu': 4815, 'aaronz@vt.edu': 3690, 'ian@caret.cam.ac.uk': 3555, 'csev@umich.edu': 855, 'jimeng@umich.edu': 4185, 'josrodri@iupui.edu': 1260, 'knoop@umich.edu': 225, 'bkirschn@umich.edu': 1080, 'dlhaines@umich.edu': 3240, 'hu2@iupui.edu': 315, 'sgithens@caret.cam.ac.uk': 1935, 'arwhyte@umich.edu': 1215, 'gbhatnag@umich.edu': 135, 'gjthomas@iupui.edu': 1800, 'a.fish@lancaster.ac.uk': 630, 'ajpoland@iupui.edu': 1845, 'lance@indiana.edu': 360, 'ssmail@indiana.edu': 225, 'jlrenfro@ucdavis.edu': 45, 'nuno@ufp.pt': 1260, 'zach.thomas@txstate.edu': 630, 'ktsao@stanford.edu': 360, 'ostermmg@whitman.edu': 765, 'john.ellis@rsmart.com': 360, 'jleasia@umich.edu': 90, 'ggolden@umich.edu': 360, 'thoppaymallika@fhda.edu': 45, 'kimsooil@bu.edu': 630, 'bahollad@indiana.edu': 90, 'jzaremba@unicon.net': 225, 'mbreuker@loi.nl': 315} 14796\n"
     ]
    },
    {
     "ename": "OperationalError",
     "evalue": "no such column: count",
     "output_type": "error",
     "traceback": [
      "\u001b[1;31m---------------------------------------------------------------------------\u001b[0m",
      "\u001b[1;31mOperationalError\u001b[0m                          Traceback (most recent call last)",
      "\u001b[1;32m<ipython-input-26-3ba14a48219d>\u001b[0m in \u001b[0;36m<module>\u001b[1;34m\u001b[0m\n\u001b[0;32m      8\u001b[0m             \u001b[0mcount\u001b[0m \u001b[1;33m=\u001b[0m \u001b[0mcount\u001b[0m \u001b[1;33m+\u001b[0m \u001b[1;36m1\u001b[0m\u001b[1;33m\u001b[0m\u001b[1;33m\u001b[0m\u001b[0m\n\u001b[0;32m      9\u001b[0m \u001b[0mprint\u001b[0m\u001b[1;33m(\u001b[0m\u001b[0memails\u001b[0m\u001b[1;33m,\u001b[0m\u001b[0mcount\u001b[0m\u001b[1;33m)\u001b[0m\u001b[1;33m\u001b[0m\u001b[1;33m\u001b[0m\u001b[0m\n\u001b[1;32m---> 10\u001b[1;33m \u001b[0mcur\u001b[0m\u001b[1;33m.\u001b[0m\u001b[0mexecute\u001b[0m\u001b[1;33m(\u001b[0m\u001b[1;34m'insert into Emails (emails,Count) values (\"emails\",count)'\u001b[0m\u001b[1;33m)\u001b[0m\u001b[1;33m\u001b[0m\u001b[1;33m\u001b[0m\u001b[0m\n\u001b[0m",
      "\u001b[1;31mOperationalError\u001b[0m: no such column: count"
     ]
    }
   ],
   "source": [
    "fhand = open(\"mbox.txt\")\n",
    "count = 0\n",
    "for email in fhand :\n",
    "    if email.startswith(\"From\"):\n",
    "        words = email.split()\n",
    "        for word in words:\n",
    "            emails[words[1]] = emails.get(words[1],0) + 1\n",
    "            count = count + 1\n",
    "print(emails,count)\n",
    "cur.execute('insert into Emails (emails,Count) values (\"emails\",count)')"
   ]
  },
  {
   "cell_type": "code",
   "execution_count": null,
   "metadata": {},
   "outputs": [],
   "source": []
  }
 ],
 "metadata": {
  "kernelspec": {
   "display_name": "Python 3",
   "language": "python",
   "name": "python3"
  },
  "language_info": {
   "codemirror_mode": {
    "name": "ipython",
    "version": 3
   },
   "file_extension": ".py",
   "mimetype": "text/x-python",
   "name": "python",
   "nbconvert_exporter": "python",
   "pygments_lexer": "ipython3",
   "version": "3.7.3"
  }
 },
 "nbformat": 4,
 "nbformat_minor": 2
}
