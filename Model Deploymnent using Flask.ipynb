{
 "cells": [
  {
   "cell_type": "code",
   "execution_count": 3,
   "metadata": {},
   "outputs": [
    {
     "name": "stdout",
     "output_type": "stream",
     "text": [
      " * Serving Flask app \"__main__\" (lazy loading)\n",
      " * Environment: production\n",
      "   WARNING: Do not use the development server in a production environment.\n",
      "   Use a production WSGI server instead.\n",
      " * Debug mode: off\n"
     ]
    },
    {
     "name": "stderr",
     "output_type": "stream",
     "text": [
      " * Running on http://127.0.0.1:7000/ (Press CTRL+C to quit)\n",
      "127.0.0.1 - - [04/Sep/2019 18:45:45] \"GET /hello_world HTTP/1.1\" 200 -\n",
      "127.0.0.1 - - [04/Sep/2019 18:45:45] \"GET /favicon.ico HTTP/1.1\" 404 -\n"
     ]
    }
   ],
   "source": [
    "from flask import Flask\n",
    "\n",
    "app = Flask(__name__)\n",
    "\n",
    "@app.route('/hello_world', methods=['GET', 'POST'])\n",
    "def hello_world():\n",
    "    return \"Hello World!\"\n",
    "\n",
    "if __name__ == \"__main__\":\n",
    "    app.run(port=7000)"
   ]
  },
  {
   "cell_type": "code",
   "execution_count": 4,
   "metadata": {},
   "outputs": [
    {
     "name": "stdout",
     "output_type": "stream",
     "text": [
      " * Serving Flask app \"__main__\" (lazy loading)\n",
      " * Environment: production\n",
      "   WARNING: Do not use the development server in a production environment.\n",
      "   Use a production WSGI server instead.\n",
      " * Debug mode: off\n"
     ]
    },
    {
     "name": "stderr",
     "output_type": "stream",
     "text": [
      " * Running on http://127.0.0.1:7001/ (Press CTRL+C to quit)\n",
      "127.0.0.1 - - [04/Sep/2019 19:07:16] \"POST /add HTTP/1.1\" 400 -\n",
      "127.0.0.1 - - [04/Sep/2019 19:08:49] \"POST /add HTTP/1.1\" 200 -\n"
     ]
    }
   ],
   "source": [
    "from flask import Flask, request\n",
    "\n",
    "app = Flask(__name__)\n",
    "\n",
    "@app.route('/add', methods=['POST'])\n",
    "def add():\n",
    "    a = request.form[\"a\"]\n",
    "    b = request.form[\"b\"]\n",
    "    c = request.form[\"c\"]\n",
    "    return str( int(a) + int(b) + int(c) )\n",
    "\n",
    "if __name__ == \"__main__\":\n",
    "    app.run(port=7001)"
   ]
  },
  {
   "cell_type": "code",
   "execution_count": 1,
   "metadata": {},
   "outputs": [
    {
     "name": "stdout",
     "output_type": "stream",
     "text": [
      "0.9733333333333334\n"
     ]
    }
   ],
   "source": [
    "from sklearn.ensemble import RandomForestClassifier\n",
    "from sklearn.datasets import load_iris\n",
    "from sklearn.model_selection import train_test_split\n",
    "from sklearn.metrics import accuracy_score\n",
    "import pandas as pd\n",
    "\n",
    "# load dataset\n",
    "iris = load_iris()\n",
    "X = iris.data\n",
    "y = iris.target\n",
    "\n",
    "#Split the data\n",
    "X_train, X_test, y_train, y_test = train_test_split(X, y, random_state=42, test_size=0.5)\n",
    "\n",
    "#Build the model\n",
    "clf = RandomForestClassifier(n_estimators=10)\n",
    "\n",
    "#Train the classifier\n",
    "clf.fit(X_train, y_train)\n",
    "\n",
    "#Predictions\n",
    "predicted = clf.predict(X_test)\n",
    "\n",
    "# Check accuracy\n",
    "print(accuracy_score(predicted, y_test))"
   ]
  },
  {
   "cell_type": "markdown",
   "metadata": {},
   "source": [
    "### Pickling the model"
   ]
  },
  {
   "cell_type": "code",
   "execution_count": 3,
   "metadata": {},
   "outputs": [
    {
     "name": "stdout",
     "output_type": "stream",
     "text": [
      "Pickle file exported.....\n"
     ]
    }
   ],
   "source": [
    "import pickle\n",
    "with open('random_forest.pkl', 'wb') as model_pkl:\n",
    "    pickle.dump(clf,model_pkl,protocol=2)\n",
    "    print(\"Pickle file exported.....\")"
   ]
  },
  {
   "cell_type": "markdown",
   "metadata": {},
   "source": [
    "### Exposing the model as a flask API"
   ]
  },
  {
   "cell_type": "code",
   "execution_count": null,
   "metadata": {},
   "outputs": [
    {
     "name": "stdout",
     "output_type": "stream",
     "text": [
      " * Serving Flask app \"__main__\" (lazy loading)\n",
      " * Environment: production\n",
      "   WARNING: Do not use the development server in a production environment.\n",
      "   Use a production WSGI server instead.\n",
      " * Debug mode: off\n"
     ]
    },
    {
     "name": "stderr",
     "output_type": "stream",
     "text": [
      " * Running on http://0.0.0.0:5000/ (Press CTRL+C to quit)\n",
      "127.0.0.1 - - [04/Sep/2019 19:49:36] \"POST /predict HTTP/1.1\" 400 -\n",
      "127.0.0.1 - - [04/Sep/2019 19:50:32] \"POST /predict HTTP/1.1\" 200 -\n",
      "127.0.0.1 - - [04/Sep/2019 19:51:06] \"POST /predict HTTP/1.1\" 200 -\n",
      "127.0.0.1 - - [04/Sep/2019 19:51:16] \"POST /predict HTTP/1.1\" 200 -\n",
      "127.0.0.1 - - [04/Sep/2019 19:51:36] \"POST /predict HTTP/1.1\" 200 -\n",
      "127.0.0.1 - - [04/Sep/2019 20:01:02] \"POST /predict HTTP/1.1\" 400 -\n",
      "127.0.0.1 - - [04/Sep/2019 20:02:28] \"POST /predict HTTP/1.1\" 400 -\n",
      "127.0.0.1 - - [04/Sep/2019 20:02:33] \"POST /predict HTTP/1.1\" 400 -\n",
      "127.0.0.1 - - [04/Sep/2019 20:02:52] \"POST /predict HTTP/1.1\" 400 -\n",
      "[2019-09-04 20:03:06,786] ERROR in app: Exception on /predict [POST]\n",
      "Traceback (most recent call last):\n",
      "  File \"C:\\Users\\LENOVO\\Anaconda3\\lib\\site-packages\\flask\\app.py\", line 2292, in wsgi_app\n",
      "    response = self.full_dispatch_request()\n",
      "  File \"C:\\Users\\LENOVO\\Anaconda3\\lib\\site-packages\\flask\\app.py\", line 1815, in full_dispatch_request\n",
      "    rv = self.handle_user_exception(e)\n",
      "  File \"C:\\Users\\LENOVO\\Anaconda3\\lib\\site-packages\\flask\\app.py\", line 1718, in handle_user_exception\n",
      "    reraise(exc_type, exc_value, tb)\n",
      "  File \"C:\\Users\\LENOVO\\Anaconda3\\lib\\site-packages\\flask\\_compat.py\", line 35, in reraise\n",
      "    raise value\n",
      "  File \"C:\\Users\\LENOVO\\Anaconda3\\lib\\site-packages\\flask\\app.py\", line 1813, in full_dispatch_request\n",
      "    rv = self.dispatch_request()\n",
      "  File \"C:\\Users\\LENOVO\\Anaconda3\\lib\\site-packages\\flask\\app.py\", line 1799, in dispatch_request\n",
      "    return self.view_functions[rule.endpoint](**req.view_args)\n",
      "  File \"<ipython-input-4-55debec74bdf>\", line 18, in predict_iris\n",
      "    prediction = model.predict(np.array([[s_length, s_width, p_length, p_width]]))\n",
      "  File \"C:\\Users\\LENOVO\\Anaconda3\\lib\\site-packages\\sklearn\\ensemble\\forest.py\", line 543, in predict\n",
      "    proba = self.predict_proba(X)\n",
      "  File \"C:\\Users\\LENOVO\\Anaconda3\\lib\\site-packages\\sklearn\\ensemble\\forest.py\", line 583, in predict_proba\n",
      "    X = self._validate_X_predict(X)\n",
      "  File \"C:\\Users\\LENOVO\\Anaconda3\\lib\\site-packages\\sklearn\\ensemble\\forest.py\", line 362, in _validate_X_predict\n",
      "    return self.estimators_[0]._validate_X_predict(X, check_input=True)\n",
      "  File \"C:\\Users\\LENOVO\\Anaconda3\\lib\\site-packages\\sklearn\\tree\\tree.py\", line 377, in _validate_X_predict\n",
      "    X = check_array(X, dtype=DTYPE, accept_sparse=\"csr\")\n",
      "  File \"C:\\Users\\LENOVO\\Anaconda3\\lib\\site-packages\\sklearn\\utils\\validation.py\", line 527, in check_array\n",
      "    array = np.asarray(array, dtype=dtype, order=order)\n",
      "  File \"C:\\Users\\LENOVO\\Anaconda3\\lib\\site-packages\\numpy\\core\\numeric.py\", line 538, in asarray\n",
      "    return array(a, dtype, copy=False, order=order)\n",
      "ValueError: could not convert string to float: '55,'\n",
      "127.0.0.1 - - [04/Sep/2019 20:03:07] \"POST /predict HTTP/1.1\" 500 -\n",
      "[2019-09-04 20:03:21,825] ERROR in app: Exception on /predict [POST]\n",
      "Traceback (most recent call last):\n",
      "  File \"C:\\Users\\LENOVO\\Anaconda3\\lib\\site-packages\\flask\\app.py\", line 2292, in wsgi_app\n",
      "    response = self.full_dispatch_request()\n",
      "  File \"C:\\Users\\LENOVO\\Anaconda3\\lib\\site-packages\\flask\\app.py\", line 1815, in full_dispatch_request\n",
      "    rv = self.handle_user_exception(e)\n",
      "  File \"C:\\Users\\LENOVO\\Anaconda3\\lib\\site-packages\\flask\\app.py\", line 1718, in handle_user_exception\n",
      "    reraise(exc_type, exc_value, tb)\n",
      "  File \"C:\\Users\\LENOVO\\Anaconda3\\lib\\site-packages\\flask\\_compat.py\", line 35, in reraise\n",
      "    raise value\n",
      "  File \"C:\\Users\\LENOVO\\Anaconda3\\lib\\site-packages\\flask\\app.py\", line 1813, in full_dispatch_request\n",
      "    rv = self.dispatch_request()\n",
      "  File \"C:\\Users\\LENOVO\\Anaconda3\\lib\\site-packages\\flask\\app.py\", line 1799, in dispatch_request\n",
      "    return self.view_functions[rule.endpoint](**req.view_args)\n",
      "  File \"<ipython-input-4-55debec74bdf>\", line 18, in predict_iris\n",
      "    prediction = model.predict(np.array([[s_length, s_width, p_length, p_width]]))\n",
      "  File \"C:\\Users\\LENOVO\\Anaconda3\\lib\\site-packages\\sklearn\\ensemble\\forest.py\", line 543, in predict\n",
      "    proba = self.predict_proba(X)\n",
      "  File \"C:\\Users\\LENOVO\\Anaconda3\\lib\\site-packages\\sklearn\\ensemble\\forest.py\", line 583, in predict_proba\n",
      "    X = self._validate_X_predict(X)\n",
      "  File \"C:\\Users\\LENOVO\\Anaconda3\\lib\\site-packages\\sklearn\\ensemble\\forest.py\", line 362, in _validate_X_predict\n",
      "    return self.estimators_[0]._validate_X_predict(X, check_input=True)\n",
      "  File \"C:\\Users\\LENOVO\\Anaconda3\\lib\\site-packages\\sklearn\\tree\\tree.py\", line 377, in _validate_X_predict\n",
      "    X = check_array(X, dtype=DTYPE, accept_sparse=\"csr\")\n",
      "  File \"C:\\Users\\LENOVO\\Anaconda3\\lib\\site-packages\\sklearn\\utils\\validation.py\", line 527, in check_array\n",
      "    array = np.asarray(array, dtype=dtype, order=order)\n",
      "  File \"C:\\Users\\LENOVO\\Anaconda3\\lib\\site-packages\\numpy\\core\\numeric.py\", line 538, in asarray\n",
      "    return array(a, dtype, copy=False, order=order)\n",
      "ValueError: could not convert string to float: '55,'\n",
      "127.0.0.1 - - [04/Sep/2019 20:03:21] \"POST /predict HTTP/1.1\" 500 -\n",
      "127.0.0.1 - - [04/Sep/2019 20:04:53] \"POST /predict?s_length%20=56&s_width=45&p_length=68&p_width=44 HTTP/1.1\" 200 -\n"
     ]
    }
   ],
   "source": [
    "import pickle\n",
    "from flask import Flask, request\n",
    "import numpy as np\n",
    "import pandas as pd\n",
    "\n",
    "with open('random_forest.pkl', 'rb') as model_file:\n",
    "    model = pickle.load(model_file)\n",
    "\n",
    "app = Flask(__name__)\n",
    "\n",
    "@app.route('/predict', methods=['POST'])\n",
    "def predict_iris():\n",
    "    s_length = request.form['s_length']\n",
    "    s_width = request.form['s_width']\n",
    "    p_length = request.form['p_length']\n",
    "    p_width = request.form['p_width']\n",
    "    \n",
    "    prediction = model.predict(np.array([[s_length, s_width, p_length, p_width]]))\n",
    "    return str(prediction)\n",
    "\n",
    "if __name__ == '__main__':\n",
    "    app.run(host='0.0.0.0',port=5000)\n",
    "\n"
   ]
  },
  {
   "cell_type": "markdown",
   "metadata": {},
   "source": [
    "## Deploy linear regression model"
   ]
  },
  {
   "cell_type": "code",
   "execution_count": null,
   "metadata": {},
   "outputs": [],
   "source": []
  }
 ],
 "metadata": {
  "kernelspec": {
   "display_name": "Python 3",
   "language": "python",
   "name": "python3"
  },
  "language_info": {
   "codemirror_mode": {
    "name": "ipython",
    "version": 3
   },
   "file_extension": ".py",
   "mimetype": "text/x-python",
   "name": "python",
   "nbconvert_exporter": "python",
   "pygments_lexer": "ipython3",
   "version": "3.7.3"
  }
 },
 "nbformat": 4,
 "nbformat_minor": 2
}
