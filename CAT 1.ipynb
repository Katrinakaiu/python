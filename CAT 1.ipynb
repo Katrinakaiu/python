{
 "cells": [
  {
   "cell_type": "markdown",
   "metadata": {},
   "source": [
    "### Name : ______________"
   ]
  },
  {
   "cell_type": "markdown",
   "metadata": {},
   "source": [
    "## KATRINA MUNYIVA KAIU"
   ]
  },
  {
   "cell_type": "markdown",
   "metadata": {},
   "source": [
    "### Question 1"
   ]
  },
  {
   "cell_type": "markdown",
   "metadata": {},
   "source": [
    "Write a Python program that prompts the user for two numbers, reads them in, and prints out the product"
   ]
  },
  {
   "cell_type": "code",
   "execution_count": 2,
   "metadata": {},
   "outputs": [
    {
     "name": "stdout",
     "output_type": "stream",
     "text": [
      "Enter your first number: 40\n",
      "Enter your second number: 30\n",
      "1200.0\n"
     ]
    }
   ],
   "source": [
    "First_number = float(input(\"Enter your first number: \"))\n",
    "Second_number = float(input(\"Enter your second number: \"))\n",
    "Product = First_number * Second_number\n",
    "print(Product)"
   ]
  },
  {
   "cell_type": "markdown",
   "metadata": {},
   "source": [
    "### Question 2"
   ]
  },
  {
   "cell_type": "markdown",
   "metadata": {},
   "source": [
    "Given a string s, write a short expression for a string that includes s repeated five times"
   ]
  },
  {
   "cell_type": "code",
   "execution_count": 97,
   "metadata": {},
   "outputs": [
    {
     "data": {
      "text/plain": [
       "'sssss'"
      ]
     },
     "execution_count": 97,
     "metadata": {},
     "output_type": "execute_result"
    }
   ],
   "source": [
    "\"s\"*5"
   ]
  },
  {
   "cell_type": "markdown",
   "metadata": {},
   "source": [
    "### Question 3"
   ]
  },
  {
   "cell_type": "markdown",
   "metadata": {},
   "source": [
    "Write a Python code to concatenate following dictionaries to create a new one.\n",
    "\n",
    "dic1={1:10, 2:20}\n",
    "\n",
    "dic2={3:30, 4:40}\n",
    "\n",
    "dic3={5:50,6:60}\n",
    "\n",
    "Expected Result : {1: 10, 2: 20, 3: 30, 4: 40, 5: 50, 6: 60}"
   ]
  },
  {
   "cell_type": "code",
   "execution_count": 115,
   "metadata": {},
   "outputs": [
    {
     "data": {
      "text/plain": [
       "{'1': 10, '2': 20, '3': 30, '4': 40, '5': 50, '6': 60}"
      ]
     },
     "execution_count": 115,
     "metadata": {},
     "output_type": "execute_result"
    }
   ],
   "source": [
    "dic1 = {1:10,2:20}\n",
    "dic2 = {3:30,4:40}\n",
    "dic3 = {5:50,6:60}\n",
    "new_dict = {}\n",
    "new_dict\n",
    "new_dict ['1'] = 10\n",
    "new_dict ['2'] = 20\n",
    "new_dict ['3'] = 30\n",
    "new_dict ['4'] = 40\n",
    "new_dict ['5'] = 50\n",
    "new_dict ['6'] = 60\n",
    "new_dict"
   ]
  },
  {
   "cell_type": "markdown",
   "metadata": {},
   "source": [
    "### Question 4"
   ]
  },
  {
   "cell_type": "markdown",
   "metadata": {},
   "source": [
    "Write a Python code to combine values in python list of dictionaries.\n",
    "\n",
    "Sample data: [{'item': 'item1', 'amount': 400}, {'item': 'item2', 'amount': 300}, {'item': 'item1', 'amount': 750}]\n",
    "\n",
    "Expected Output: Counter({'item1': 1150, 'item2': 300})"
   ]
  },
  {
   "cell_type": "code",
   "execution_count": 117,
   "metadata": {},
   "outputs": [
    {
     "ename": "SyntaxError",
     "evalue": "can't assign to literal (<ipython-input-117-6f13fd5d12f6>, line 1)",
     "output_type": "error",
     "traceback": [
      "\u001b[1;36m  File \u001b[1;32m\"<ipython-input-117-6f13fd5d12f6>\"\u001b[1;36m, line \u001b[1;32m1\u001b[0m\n\u001b[1;33m    1 =[{'item':'item1','amount':400}],[{'item2':'item2','amount':300}],2 =[{'item':'item1','amount':750}]\u001b[0m\n\u001b[1;37m                                                                                                          ^\u001b[0m\n\u001b[1;31mSyntaxError\u001b[0m\u001b[1;31m:\u001b[0m can't assign to literal\n"
     ]
    }
   ],
   "source": [
    "1 =[{'item':'item1','amount':400}],[{'item2':'item2','amount':300}],2 =[{'item':'item1','amount':750}]\n"
   ]
  },
  {
   "cell_type": "markdown",
   "metadata": {},
   "source": []
  },
  {
   "cell_type": "markdown",
   "metadata": {},
   "source": [
    "### Question 5"
   ]
  },
  {
   "cell_type": "markdown",
   "metadata": {},
   "source": [
    "Write a Python function to check whether a number is divisible by another number.\n",
    "\n",
    "Accept two integers values form the user."
   ]
  },
  {
   "cell_type": "code",
   "execution_count": 70,
   "metadata": {},
   "outputs": [
    {
     "name": "stdout",
     "output_type": "stream",
     "text": [
      "divisible\n",
      "20.0\n"
     ]
    }
   ],
   "source": [
    "def divisibility(a,b):\n",
    "    c = a/b or b/a\n",
    "    if a%b == 0 or b%a == 0:\n",
    "        print(\"divisible\")\n",
    "        print(c)\n",
    "    else:\n",
    "        print(\"not divisible\")\n",
    "        print(c)\n",
    "        \n",
    "divisibility(200,10)"
   ]
  },
  {
   "cell_type": "markdown",
   "metadata": {},
   "source": [
    "### Question 6"
   ]
  },
  {
   "cell_type": "markdown",
   "metadata": {},
   "source": [
    "Write a Python program to count the number of characters (character frequency) in a string. \n",
    "\n",
    "Sample String : google.com'\n",
    "\n",
    "Expected Result : {'o': 3, 'g': 2, '.': 1, 'e': 1, 'l': 1, 'm': 1, 'c': 1}"
   ]
  },
  {
   "cell_type": "code",
   "execution_count": 57,
   "metadata": {},
   "outputs": [
    {
     "name": "stdout",
     "output_type": "stream",
     "text": [
      "{'g': 2, 'o': 3, 'l': 1, 'e': 1, '.': 1, 'c': 1, 'm': 1}\n"
     ]
    }
   ],
   "source": [
    "word = \"google.com\"\n",
    "word_dict = dict()\n",
    "\n",
    "for i in word:\n",
    "    if i not in word_dict:\n",
    "        word_dict[i ] = 1\n",
    "    else:\n",
    "        word_dict[i] = word_dict[i] + 1\n",
    "print(word_dict)\n",
    "       "
   ]
  },
  {
   "cell_type": "markdown",
   "metadata": {},
   "source": [
    "### Question 7"
   ]
  },
  {
   "cell_type": "markdown",
   "metadata": {},
   "source": [
    "Write a Python function that takes a list of words and returns the length of the longest one"
   ]
  },
  {
   "cell_type": "code",
   "execution_count": 58,
   "metadata": {},
   "outputs": [
    {
     "name": "stdout",
     "output_type": "stream",
     "text": [
      "['a', 'b', 'c', 'd', 'e', 'f']\n"
     ]
    }
   ],
   "source": [
    "a = ['1','2','3','4']\n",
    "b = ['a','b','c','d','e','f']\n",
    "\n",
    "def longlist(a,b):\n",
    "    if len(a) > len(b):\n",
    "        print(a)\n",
    "    else:\n",
    "        print (b)\n",
    "longlist(a,b)"
   ]
  },
  {
   "cell_type": "markdown",
   "metadata": {},
   "source": [
    "### Question 8"
   ]
  },
  {
   "cell_type": "markdown",
   "metadata": {},
   "source": [
    "Write a Python function that takes a string as an argument then returns a reverse of the string.\n",
    "\n",
    "Sample String : myReverse(\"1234abcd\")\n",
    "Expected Output : \"dcba4321\""
   ]
  },
  {
   "cell_type": "code",
   "execution_count": 48,
   "metadata": {},
   "outputs": [
    {
     "name": "stdout",
     "output_type": "stream",
     "text": [
      "Enter your word: \"1234abcd\"\n",
      "\"dcba4321\"\n"
     ]
    }
   ],
   "source": [
    "def reverse(a):\n",
    "    a = str(input(\"Enter your word: \"))\n",
    "    b = str(a[::-1])\n",
    "    print (b)\n",
    "    \n",
    "reverse(a)"
   ]
  },
  {
   "cell_type": "markdown",
   "metadata": {},
   "source": [
    "### Question 9"
   ]
  },
  {
   "cell_type": "markdown",
   "metadata": {},
   "source": [
    "You have a list of words\n",
    "['apple', 'book', 'melon', 'applewatch', 'man', 'notebook', 'watch', 'water', 'super', 'watermelon', 'notebook', 'superman']\n",
    "\n",
    "Given this list\n",
    "['book', 'apple', 'notebook', 'note', 'applewatch', 'melon', 'watermelon']\n",
    "\n",
    "Print out all compound words in the list, the expected output should be something like this:\n",
    "['notebook', 'applewatch', 'watermelon']\n"
   ]
  },
  {
   "cell_type": "code",
   "execution_count": 56,
   "metadata": {},
   "outputs": [
    {
     "name": "stdout",
     "output_type": "stream",
     "text": [
      "notebook\n",
      "applewatch\n",
      "watermelon\n"
     ]
    },
    {
     "data": {
      "text/plain": [
       "['notebook', 'applewatch', 'watermelon']"
      ]
     },
     "execution_count": 56,
     "metadata": {},
     "output_type": "execute_result"
    }
   ],
   "source": [
    "words = ['apple','book','melon','applewatch','man','notebook','watch','water','super','watermelon','notebook','superman']\n",
    "new_words =['book','apple','notebook','note','applewatch','melon','watermelon']\n",
    "for i in new_words:\n",
    "    if len(i) > 5 :\n",
    "        print(i)\n",
    "i = ['notebook','applewatch','watermelon']\n",
    "i"
   ]
  },
  {
   "cell_type": "markdown",
   "metadata": {},
   "source": [
    "### Question 10"
   ]
  },
  {
   "cell_type": "markdown",
   "metadata": {},
   "source": [
    "Write a Python program to convert a list of multiple integers into a single integer.\n",
    "\n",
    "Sample list: [11, 33, 50]\n",
    "    \n",
    "Expected Output: 113350"
   ]
  },
  {
   "cell_type": "code",
   "execution_count": 92,
   "metadata": {},
   "outputs": [
    {
     "data": {
      "text/plain": [
       "113350"
      ]
     },
     "execution_count": 92,
     "metadata": {},
     "output_type": "execute_result"
    }
   ],
   "source": [
    "list = [11,33,50]\n",
    "a = list[0]\n",
    "b = list[1]\n",
    "c = list[2]\n",
    "a,b,c\n",
    "def addstr(a,b,c):\n",
    "    sum =  a  +\"\"+ b +\"\"+ c\n",
    "    return sum\n",
    "\n",
    "d = addstr(\"11\",\"33\",\"50\")\n",
    "e = int(d)\n",
    "e"
   ]
  },
  {
   "cell_type": "markdown",
   "metadata": {},
   "source": [
    "### Question 11"
   ]
  },
  {
   "cell_type": "markdown",
   "metadata": {},
   "source": [
    "Given a string 'P a n a g s n j g d A M D', convert all the letter to uppercase the make a list of the characters. \n",
    "\n",
    "Output = ['P', 'A', 'N', 'A', 'G', 'S', 'N', 'J', 'G', 'D', 'A', 'M', 'D']"
   ]
  },
  {
   "cell_type": "code",
   "execution_count": 8,
   "metadata": {},
   "outputs": [
    {
     "name": "stdout",
     "output_type": "stream",
     "text": [
      "PANAGSNJGDAMD\n",
      "['P', 'A', 'N', 'A', 'G', 'S', 'N', 'J', 'G', 'D', 'A', 'M', 'D']\n"
     ]
    }
   ],
   "source": [
    "name = \"PanagsnjgdAMD\"\n",
    "name.upper()\n",
    "print(name.upper())\n",
    "new_name = []\n",
    "new_name = ['P','A','N','A','G','S','N','J','G','D','A','M','D']\n",
    "print(new_name)"
   ]
  },
  {
   "cell_type": "markdown",
   "metadata": {},
   "source": [
    "### Question 12"
   ]
  },
  {
   "cell_type": "markdown",
   "metadata": {},
   "source": [
    "Write a Python function that checks whether a passed string is palindrome or not. \n",
    "Note: A palindrome is a word, phrase, or sequence that reads the same backward as forward, e.g., madam or nurses run."
   ]
  },
  {
   "cell_type": "code",
   "execution_count": null,
   "metadata": {},
   "outputs": [],
   "source": [
    "def checkstringrev():\n",
    "    "
   ]
  }
 ],
 "metadata": {
  "kernelspec": {
   "display_name": "Python 3",
   "language": "python",
   "name": "python3"
  },
  "language_info": {
   "codemirror_mode": {
    "name": "ipython",
    "version": 3
   },
   "file_extension": ".py",
   "mimetype": "text/x-python",
   "name": "python",
   "nbconvert_exporter": "python",
   "pygments_lexer": "ipython3",
   "version": "3.7.3"
  }
 },
 "nbformat": 4,
 "nbformat_minor": 2
}
