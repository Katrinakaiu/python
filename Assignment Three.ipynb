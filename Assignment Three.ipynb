{
 "cells": [
  {
   "cell_type": "markdown",
   "metadata": {},
   "source": [
    "## Exercise"
   ]
  },
  {
   "cell_type": "markdown",
   "metadata": {},
   "source": [
    "Rewrite your pay computation to give the employees 1.5 times the hourly rate for hours worked above 40 hours and create a function called computepay which takes two parameters(hours and rate).\n",
    "\n",
    "Enter Hours : 45\n",
    "Enter Rate : 10\n",
    "Pay : 475.0"
   ]
  },
  {
   "cell_type": "code",
   "execution_count": 23,
   "metadata": {},
   "outputs": [
    {
     "name": "stdout",
     "output_type": "stream",
     "text": [
      "Enter your worked_hours: 45\n",
      "Enter your rate: 10\n"
     ]
    },
    {
     "data": {
      "text/plain": [
       "475.0"
      ]
     },
     "execution_count": 23,
     "metadata": {},
     "output_type": "execute_result"
    }
   ],
   "source": [
    "normal_hours = 40\n",
    "worked_hours = float(input(\"Enter your worked_hours: \"))\n",
    "rate = int(input(\"Enter your rate: \"))\n",
    "\n",
    "def computepay(hours,rate):\n",
    "        return hours*rate\n",
    "if worked_hours > 40:\n",
    "    overtime = (worked_hours-40)\n",
    "    Pay = normal_hours*rate + overtime*1.5*10\n",
    "    \n",
    "Pay        "
   ]
  },
  {
   "cell_type": "code",
   "execution_count": null,
   "metadata": {},
   "outputs": [],
   "source": []
  }
 ],
 "metadata": {
  "kernelspec": {
   "display_name": "Python 3",
   "language": "python",
   "name": "python3"
  },
  "language_info": {
   "codemirror_mode": {
    "name": "ipython",
    "version": 3
   },
   "file_extension": ".py",
   "mimetype": "text/x-python",
   "name": "python",
   "nbconvert_exporter": "python",
   "pygments_lexer": "ipython3",
   "version": "3.7.3"
  }
 },
 "nbformat": 4,
 "nbformat_minor": 2
}
