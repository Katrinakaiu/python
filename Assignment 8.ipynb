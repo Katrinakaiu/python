{
 "cells": [
  {
   "cell_type": "code",
   "execution_count": 3,
   "metadata": {},
   "outputs": [
    {
     "name": "stdout",
     "output_type": "stream",
     "text": [
      "The 10 most frequent emails are:\n",
      "('zqian@umich.edu', 165)\n",
      "('zach.thomas@txstate.edu', 14)\n",
      "('wagnermr@iupui.edu', 43)\n",
      "('tnguyen@iupui.edu', 6)\n",
      "('thoppaymallika@fhda.edu', 1)\n",
      "('stuart.freeman@et.gatech.edu', 17)\n",
      "('stephen.marquard@uct.ac.za', 29)\n",
      "('ssmail@indiana.edu', 5)\n",
      "('source@collab.sakaiproject.org', 1644)\n",
      "('sgithens@caret.cam.ac.uk', 43)\n",
      "46  emails 3288 emails in total\n"
     ]
    }
   ],
   "source": [
    "fhand = open(\"mbox.txt\", \"r\")\n",
    "count = 0\n",
    "appear = dict()\n",
    "def order (y):\n",
    "    return y\n",
    "for a in fhand:\n",
    "    if a.startswith(\"From: \") or a.startswith(\"To: \"):\n",
    "        count = count + 1\n",
    "        b = a.split()\n",
    "        appear[b[1]] = appear.get (b[1],0) + 1\n",
    "number_of_emails = len(appear)\n",
    "x =(sorted(appear.items(),key=order, reverse=True ))\n",
    "print(\"The 10 most frequent emails are:\")\n",
    "value = 0\n",
    "for frequent in x:\n",
    "    print(frequent)\n",
    "    value = value + 1\n",
    "    if value == 10:\n",
    "        break\n",
    "print(number_of_emails, \" emails\", count, \"emails in total\")\n",
    "    "
   ]
  },
  {
   "cell_type": "code",
   "execution_count": null,
   "metadata": {},
   "outputs": [],
   "source": []
  }
 ],
 "metadata": {
  "kernelspec": {
   "display_name": "Python 3",
   "language": "python",
   "name": "python3"
  },
  "language_info": {
   "codemirror_mode": {
    "name": "ipython",
    "version": 3
   },
   "file_extension": ".py",
   "mimetype": "text/x-python",
   "name": "python",
   "nbconvert_exporter": "python",
   "pygments_lexer": "ipython3",
   "version": "3.7.3"
  }
 },
 "nbformat": 4,
 "nbformat_minor": 2
}
