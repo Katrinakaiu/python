{
 "cells": [
  {
   "cell_type": "markdown",
   "metadata": {},
   "source": [
    "## From mbox.txt, find the 10 most frequently used words...return in form of a tuple"
   ]
  },
  {
   "cell_type": "code",
   "execution_count": 31,
   "metadata": {},
   "outputs": [
    {
     "name": "stdout",
     "output_type": "stream",
     "text": [
      "The 10 most frequent emails are:\n",
      "('zqian@umich.edu', 165)\n",
      "('zach.thomas@txstate.edu', 14)\n",
      "('wagnermr@iupui.edu', 43)\n",
      "('tnguyen@iupui.edu', 6)\n",
      "('thoppaymallika@fhda.edu', 1)\n",
      "('stuart.freeman@et.gatech.edu', 17)\n",
      "('stephen.marquard@uct.ac.za', 29)\n",
      "('ssmail@indiana.edu', 5)\n",
      "('sgithens@caret.cam.ac.uk', 43)\n",
      "('rjlowe@iupui.edu', 79)\n",
      "45  emails 1644 emails in total\n"
     ]
    }
   ],
   "source": [
    "fhand = open(\"mbox.txt\", \"r\")\n",
    "count = 0\n",
    "appear = dict()\n",
    "def order (y):\n",
    "    return y\n",
    "for a in fhand:\n",
    "    if a.startswith(\"From: \"):\n",
    "        count = count + 1\n",
    "        b = a.split()\n",
    "        appear[b[1]] = appear.get (b[1],0) + 1\n",
    "each_email = len(appear)\n",
    "x =(sorted(appear.items(),key=order, reverse=True ))\n",
    "print(\"The 10 most frequent emails are:\")\n",
    "value = 0\n",
    "for frequent in x:\n",
    "    print(frequent)\n",
    "    value = value + 1\n",
    "    if value == 10:\n",
    "        break\n",
    "print(each_email, \" emails\", count, \"emails in total\")\n",
    "    "
   ]
  }
 ],
 "metadata": {
  "kernelspec": {
   "display_name": "Python 3",
   "language": "python",
   "name": "python3"
  },
  "language_info": {
   "codemirror_mode": {
    "name": "ipython",
    "version": 3
   },
   "file_extension": ".py",
   "mimetype": "text/x-python",
   "name": "python",
   "nbconvert_exporter": "python",
   "pygments_lexer": "ipython3",
   "version": "3.7.3"
  }
 },
 "nbformat": 4,
 "nbformat_minor": 2
}
