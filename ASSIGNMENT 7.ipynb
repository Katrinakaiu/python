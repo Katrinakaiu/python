{
 "cells": [
  {
   "cell_type": "markdown",
   "metadata": {},
   "source": [
    "## Using mbox.txt return a dictionary with all emails with the number of occurrence they occur on all the TO and FROM emails."
   ]
  },
  {
   "cell_type": "code",
   "execution_count": 6,
   "metadata": {},
   "outputs": [
    {
     "name": "stdout",
     "output_type": "stream",
     "text": [
      "Occcurence:  {'stephen.marquard@uct.ac.za': 203, 'source@collab.sakaiproject.org': 3288, 'louis@media.berkeley.edu': 140, 'zqian@umich.edu': 1155, 'rjlowe@iupui.edu': 553, 'cwen@iupui.edu': 1099, 'gsilver@umich.edu': 168, 'wagnermr@iupui.edu': 301, 'antranig@caret.cam.ac.uk': 126, 'gopal.ramasammycook@gmail.com': 175, 'david.horwitz@uct.ac.za': 469, 'ray@media.berkeley.edu': 147, 'mmmay@indiana.edu': 1127, 'stuart.freeman@et.gatech.edu': 119, 'tnguyen@iupui.edu': 42, 'chmaurer@iupui.edu': 749, 'aaronz@vt.edu': 574, 'ian@caret.cam.ac.uk': 553, 'csev@umich.edu': 133, 'jimeng@umich.edu': 651, 'josrodri@iupui.edu': 196, 'knoop@umich.edu': 35, 'bkirschn@umich.edu': 168, 'dlhaines@umich.edu': 504, 'hu2@iupui.edu': 49, 'sgithens@caret.cam.ac.uk': 301, 'arwhyte@umich.edu': 189, 'gbhatnag@umich.edu': 21, 'gjthomas@iupui.edu': 280, 'a.fish@lancaster.ac.uk': 98, 'ajpoland@iupui.edu': 287, 'lance@indiana.edu': 56, 'ssmail@indiana.edu': 35, 'jlrenfro@ucdavis.edu': 7, 'nuno@ufp.pt': 196, 'zach.thomas@txstate.edu': 98, 'ktsao@stanford.edu': 56, 'ostermmg@whitman.edu': 119, 'john.ellis@rsmart.com': 56, 'jleasia@umich.edu': 14, 'ggolden@umich.edu': 56, 'thoppaymallika@fhda.edu': 7, 'kimsooil@bu.edu': 98, 'bahollad@indiana.edu': 14, 'jzaremba@unicon.net': 35, 'mbreuker@loi.nl': 49}\n",
      "Total number of emails:  14796\n"
     ]
    }
   ],
   "source": [
    "fhand  = open(\"mbox.txt\", \"r\")\n",
    "emails = dict()\n",
    "count = 0\n",
    "for line in fhand:\n",
    "    if line.startswith(\"From \") or line.startswith(\"To: \"):\n",
    "        words = line.split()\n",
    "        for word in words:\n",
    "            emails[words[1]] = emails.get(words[1],0) + 1\n",
    "            count = count + 1\n",
    "print(\"Occcurence: \",emails)\n",
    "print(\"Total number of emails: \", count)"
   ]
  },
  {
   "cell_type": "code",
   "execution_count": null,
   "metadata": {},
   "outputs": [],
   "source": []
  }
 ],
 "metadata": {
  "kernelspec": {
   "display_name": "Python 3",
   "language": "python",
   "name": "python3"
  },
  "language_info": {
   "codemirror_mode": {
    "name": "ipython",
    "version": 3
   },
   "file_extension": ".py",
   "mimetype": "text/x-python",
   "name": "python",
   "nbconvert_exporter": "python",
   "pygments_lexer": "ipython3",
   "version": "3.7.3"
  }
 },
 "nbformat": 4,
 "nbformat_minor": 2
}
