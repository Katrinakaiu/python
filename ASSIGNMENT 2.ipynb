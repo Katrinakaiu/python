{
 "cells": [
  {
   "cell_type": "markdown",
   "metadata": {},
   "source": [
    "## Rewrite your pay program using try and except so that your program handles non-numeric input gracefully.\n",
    "## Enter Hours : 20\n",
    "## Enter Rate : nine\n",
    "## Error, please enter numeric input   \n",
    "## Enter Hours : forty\n",
    "## Error, please enter numeric input"
   ]
  },
  {
   "cell_type": "code",
   "execution_count": 2,
   "metadata": {},
   "outputs": [
    {
     "name": "stdout",
     "output_type": "stream",
     "text": [
      "Enter your hours: forty\n",
      "Error, please enter numeric input\n"
     ]
    }
   ],
   "source": [
    "try:\n",
    "    hours = int(input(\"Enter your hours: \"))\n",
    "    normal_rate = int(input(\"Enter your normal_rate: \"))\n",
    "    \n",
    "    if hours > 40:\n",
    "        overtime = hours-40\n",
    "        print(overtime)\n",
    "        Pay = normal_hours*rate + overtime*1.5*10\n",
    "        print(Pay)\n",
    "    else:\n",
    "        hours == forty\n",
    "        \n",
    "except:\n",
    "    print(\"Error, please enter numeric input\")"
   ]
  },
  {
   "cell_type": "code",
   "execution_count": 3,
   "metadata": {},
   "outputs": [
    {
     "name": "stdout",
     "output_type": "stream",
     "text": [
      "Enter your hours: 20\n",
      "Enter your normal_rate: nine\n",
      "Error, please enter numeric input\n"
     ]
    }
   ],
   "source": [
    "try:\n",
    "    hours = int(input(\"Enter your hours: \"))\n",
    "    normal_rate = int(input(\"Enter your normal_rate: \"))\n",
    "    \n",
    "    if hours > 40:\n",
    "        overtime = hours-40\n",
    "        print(overtime)\n",
    "        Pay = normal_hours*rate + overtime*1.5*10\n",
    "        print(Pay)\n",
    "    else:\n",
    "        hours == forty\n",
    "        \n",
    "except:\n",
    "    print(\"Error, please enter numeric input\")"
   ]
  },
  {
   "cell_type": "code",
   "execution_count": null,
   "metadata": {},
   "outputs": [],
   "source": []
  }
 ],
 "metadata": {
  "kernelspec": {
   "display_name": "Python 3",
   "language": "python",
   "name": "python3"
  },
  "language_info": {
   "codemirror_mode": {
    "name": "ipython",
    "version": 3
   },
   "file_extension": ".py",
   "mimetype": "text/x-python",
   "name": "python",
   "nbconvert_exporter": "python",
   "pygments_lexer": "ipython3",
   "version": "3.7.3"
  }
 },
 "nbformat": 4,
 "nbformat_minor": 2
}
