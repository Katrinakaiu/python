{
 "cells": [
  {
   "cell_type": "code",
   "execution_count": 4,
   "metadata": {},
   "outputs": [],
   "source": [
    "numbers = [3 ,41 ,12 ,9 ,74 ,15 ,22]\n",
    "for number in numbers:\n",
    "    if number == 22:\n",
    "        exist = \"It exists\"\n",
    "        break\n",
    "else:\n",
    "      print(\"It doesn't exist\")\n",
    "    "
   ]
  },
  {
   "cell_type": "code",
   "execution_count": 3,
   "metadata": {},
   "outputs": [
    {
     "name": "stdout",
     "output_type": "stream",
     "text": [
      "The number appears:  3  times\n"
     ]
    }
   ],
   "source": [
    "numbers = [3 ,41 ,22 ,12 ,9 ,74 ,15 , 22 ,22 ]\n",
    "value = 0\n",
    "for number in numbers:\n",
    "    if number == 22:\n",
    "        value = value + 1\n",
    "else:\n",
    "    value = value\n",
    "    \n",
    "print(\"The number appears: \",value,\" times\")"
   ]
  },
  {
   "cell_type": "code",
   "execution_count": null,
   "metadata": {},
   "outputs": [],
   "source": []
  }
 ],
 "metadata": {
  "kernelspec": {
   "display_name": "Python 3",
   "language": "python",
   "name": "python3"
  },
  "language_info": {
   "codemirror_mode": {
    "name": "ipython",
    "version": 3
   },
   "file_extension": ".py",
   "mimetype": "text/x-python",
   "name": "python",
   "nbconvert_exporter": "python",
   "pygments_lexer": "ipython3",
   "version": "3.7.3"
  }
 },
 "nbformat": 4,
 "nbformat_minor": 2
}
